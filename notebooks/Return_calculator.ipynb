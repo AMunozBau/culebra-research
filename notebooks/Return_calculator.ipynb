{
 "cells": [
  {
   "cell_type": "code",
   "execution_count": null,
   "id": "0ad24f52-fbde-44ba-b939-b0dab7e1134f",
   "metadata": {},
   "outputs": [],
   "source": [
    "import pandas as pd\n",
    "import matplotlib.pyplot as plt"
   ]
  },
  {
   "cell_type": "code",
   "execution_count": null,
   "id": "32e8b7cf-6e96-4b18-9c1f-e27ef3f8e5b0",
   "metadata": {},
   "outputs": [],
   "source": [
    "# calls_df = pd.read_csv('/home/alvaro/culebra_research_results/SOL-USD-170-C_2025-05-15.csv')\n",
    "# puts_df = pd.read_csv('/home/alvaro/culebra_research_results/SOL-USD-180-P_2025-05-15.csv')\n",
    "\n",
    "calls_df = pd.read_csv('/home/alvaro/culebra_research_results/SOL-USD-160-C_2025-05-15.csv')\n",
    "puts_df = pd.read_csv('/home/alvaro/culebra_research_results/SOL-USD-180-P_2025-05-15.csv')"
   ]
  },
  {
   "cell_type": "code",
   "execution_count": null,
   "id": "107592f4-9fa6-41d3-b853-837ed53673c6",
   "metadata": {},
   "outputs": [],
   "source": [
    "prep_calls_df = calls_df[['symbol', 'ask', 'bid', 'mark_price', 'underlying_price', 'delta', 'funding_rate','created_at']]\n",
    "prep_calls_df = prep_calls_df.copy()\n",
    "prep_calls_df.loc[:, 'created_at'] = pd.to_datetime(prep_calls_df['created_at'], unit='ms').astype('int64')\n",
    "prep_calls_df.loc[:, 'mid_price'] = (prep_calls_df['bid'] + prep_calls_df['ask']) / 2\n",
    "prep_calls_df.loc[:, 'spread'] = abs(prep_calls_df['bid'] - prep_calls_df['ask']) / prep_calls_df['mid_price']\n",
    "\n",
    "prep_puts_df = puts_df[['symbol', 'ask', 'bid', 'mark_price', 'underlying_price', 'delta', 'funding_rate', 'created_at']]\n",
    "prep_puts_df = prep_puts_df.copy()\n",
    "prep_puts_df.loc[:, 'created_at'] = pd.to_datetime(prep_puts_df['created_at'], unit='ms').astype('int64')\n",
    "prep_puts_df.loc[:, 'mid_price'] = (prep_puts_df['bid'] + prep_puts_df['ask']) / 2\n",
    "prep_puts_df.loc[:, 'spread'] = abs(prep_puts_df['bid'] - prep_puts_df['ask']) / prep_puts_df['mid_price']\n",
    "\n"
   ]
  },
  {
   "cell_type": "code",
   "execution_count": null,
   "id": "cb1dc25f-6a8c-4ea7-8e77-dc0443611d18",
   "metadata": {},
   "outputs": [],
   "source": [
    "prep_puts_df['pos'] = 1.0 / abs(prep_puts_df['delta'])\n",
    "prep_calls_df['pos'] = 1.0 / abs(prep_calls_df['delta'])\n",
    "\n",
    "prep_puts_df['ret'] = abs(prep_puts_df['pos']) * prep_puts_df['funding_rate'] * prep_puts_df['underlying_price'] * 15 / (8 *3600)\n",
    "prep_calls_df['ret'] = abs(prep_calls_df['pos']) * prep_puts_df['funding_rate'] * prep_calls_df['underlying_price'] * 15 / (8 *3600)\n",
    "\n",
    "prep_puts_df['leg_value'] = prep_puts_df['pos'] * prep_puts_df['mid_price']\n",
    "prep_calls_df['leg_value'] = prep_calls_df['pos'] * prep_calls_df['mid_price']"
   ]
  },
  {
   "cell_type": "code",
   "execution_count": null,
   "id": "a137afeb-ce5f-476e-b3f7-72a2c7fbba3f",
   "metadata": {},
   "outputs": [],
   "source": [
    "prep_puts_df = prep_puts_df.rename(columns=lambda x: 'put_' + x)\n",
    "prep_calls_df = prep_calls_df.rename(columns=lambda x: 'call_' + x)\n",
    "\n",
    "portfolio_df =  pd.merge(prep_puts_df, prep_calls_df, how='inner', left_index=True, right_index=True,)\n",
    "portfolio_df['portfolio_value'] = portfolio_df['call_leg_value'] + portfolio_df['put_leg_value']\n",
    "portfolio_df['portfolio_ret'] = portfolio_df['call_ret'] + portfolio_df['put_ret']\n",
    "portfolio_df['cum_portfolio_ret'] = portfolio_df['portfolio_ret'].cumsum()\n",
    "# portfolio_df"
   ]
  },
  {
   "cell_type": "code",
   "execution_count": null,
   "id": "9c67e717-b6e7-4635-a018-163ca04b35b4",
   "metadata": {},
   "outputs": [],
   "source": [
    "plt.figure(figsize=(10, 3))  # Optional: Set the size of the plot\n",
    "plt.plot(portfolio_df['call_underlying_price'], linestyle='-', color='r', label='Mid Price')\n",
    "# Add labels and title\n",
    "plt.xlabel('Index')\n",
    "plt.ylabel('Price')\n",
    "plt.title('Spot price over Time')\n",
    "plt.legend()\n",
    "\n",
    "# Show the plot\n",
    "plt.show()"
   ]
  },
  {
   "cell_type": "code",
   "execution_count": null,
   "id": "7053afbd-5b9b-4098-b49c-1ba683c48266",
   "metadata": {},
   "outputs": [],
   "source": [
    "plt.figure(figsize=(10, 3))  # Optional: Set the size of the plot\n",
    "plt.plot(portfolio_df['call_leg_value'], linestyle='-', color='g', label='Call leg value')\n",
    "plt.plot(portfolio_df['put_leg_value'], linestyle='-', color='r', label='Put leg value')\n",
    "# Add labels and title\n",
    "plt.xlabel('Index')\n",
    "plt.ylabel('Value')\n",
    "plt.title('Legs values over Time')\n",
    "plt.legend()\n",
    "\n",
    "# Show the plot\n",
    "plt.show()"
   ]
  },
  {
   "cell_type": "code",
   "execution_count": null,
   "id": "8b7fe0d7-d76d-4c6e-b423-c05dfaf42781",
   "metadata": {},
   "outputs": [],
   "source": [
    "plt.figure(figsize=(10, 3))  # Optional: Set the size of the plot\n",
    "plt.plot(portfolio_df['portfolio_value'], linestyle='-', color='b', label='Mid Price')\n",
    "\n",
    "# Add labels and title\n",
    "plt.xlabel('Index')\n",
    "plt.ylabel('Value')\n",
    "plt.title('Portfolio Value')\n",
    "plt.legend()\n",
    "\n",
    "# Show the plot\n",
    "plt.show()"
   ]
  },
  {
   "cell_type": "code",
   "execution_count": null,
   "id": "c1733c29-6507-46eb-8efc-6a8b9934378a",
   "metadata": {},
   "outputs": [],
   "source": [
    "plt.figure(figsize=(10, 3))  # Optional: Set the size of the plot\n",
    "plt.plot(portfolio_df['portfolio_ret'], linestyle='-', color='b', label='Return')\n",
    "\n",
    "# Add labels and title\n",
    "plt.xlabel('Index')\n",
    "plt.ylabel('Value')\n",
    "plt.title('Portfolio Return')\n",
    "plt.legend()\n",
    "\n",
    "# Show the plot\n",
    "plt.show()"
   ]
  },
  {
   "cell_type": "code",
   "execution_count": null,
   "id": "5143b407-6b8c-47cf-8af4-4c97c2f3657b",
   "metadata": {},
   "outputs": [],
   "source": [
    "plt.figure(figsize=(10, 3))  # Optional: Set the size of the plot\n",
    "plt.plot(portfolio_df['cum_portfolio_ret'], linestyle='-', color='b', label='Return')\n",
    "\n",
    "# Add labels and title\n",
    "plt.xlabel('Index')\n",
    "plt.ylabel('Value')\n",
    "plt.title('Cumulative Portfolio Return')\n",
    "plt.legend()\n",
    "\n",
    "# Show the plot\n",
    "plt.show()"
   ]
  }
 ],
 "metadata": {
  "kernelspec": {
   "display_name": "Python 3 (ipykernel)",
   "language": "python",
   "name": "python3"
  },
  "language_info": {
   "codemirror_mode": {
    "name": "ipython",
    "version": 3
   },
   "file_extension": ".py",
   "mimetype": "text/x-python",
   "name": "python",
   "nbconvert_exporter": "python",
   "pygments_lexer": "ipython3",
   "version": "3.13.2"
  }
 },
 "nbformat": 4,
 "nbformat_minor": 5
}
